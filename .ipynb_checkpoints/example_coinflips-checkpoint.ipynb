{
 "cells": [
  {
   "cell_type": "code",
   "execution_count": 1,
   "metadata": {},
   "outputs": [],
   "source": [
    "import numpy as np\n",
    "import gibbsPy as gp\n",
    "import scipy.stats as stats\n",
    "import scipy.stats.distributions\n",
    "import corner\n",
    "import matplotlib.pyplot as plt"
   ]
  },
  {
   "cell_type": "code",
   "execution_count": 2,
   "metadata": {},
   "outputs": [],
   "source": [
    "params = [r'$\\theta_{1}$', r'$\\theta_{2}$', r'$\\theta_{3}$', r'$\\theta_{4}$']\n",
    "dim = 4\n",
    "nobs = 100\n",
    "def generate_coinflip_data(N, D):\n",
    "    size = (N, D)\n",
    "    data = np.zeros(size)\n",
    "    theta_trues = np.random.uniform(0.,1., size=D)\n",
    "    for i in range(D):\n",
    "        data[:,i] = np.random.choice((1,0), size=N, p=(theta_trues[i], 1-theta_trues[i]))\n",
    "    return data, theta_trues"
   ]
  },
  {
   "cell_type": "code",
   "execution_count": 3,
   "metadata": {},
   "outputs": [],
   "source": [
    "def conditional_function(pos, idx, data, a=1, b=1, random=None):\n",
    "    N = len(data[:,idx])\n",
    "    heads = np.sum(data[:,idx])\n",
    "    return scipy.stats.distributions.beta.rvs(a+heads, N-heads+b, random_state=random if random is not None else None)"
   ]
  },
  {
   "cell_type": "code",
   "execution_count": 4,
   "metadata": {},
   "outputs": [
    {
     "name": "stderr",
     "output_type": "stream",
     "text": [
      "100%|██████████| 100000/100000 [00:31<00:00, 3174.70it/s]\n"
     ]
    }
   ],
   "source": [
    "data, thetas = generate_coinflip_data(nobs, dim)\n",
    "initial_state = np.random.uniform(0,1, size=dim)\n",
    "sampler = gp.sampler.Sampler(dim, params, initial_state=initial_state, data=data, cond_fct=conditional_function)\n",
    "sampler.run_gibs(100000, progress=True)\n",
    "chain = sampler.get_chain()"
   ]
  },
  {
   "cell_type": "code",
   "execution_count": null,
   "metadata": {},
   "outputs": [],
   "source": [
    "fig = corner.corner(chain, range=[(0.,1.), (0.,1.), (0.,1.), (0.,1.)], labels=params, show_titles=True,\n",
    "              quantities=(0.05,0.95))\n",
    "# Extract the axes\n",
    "axes = np.array(fig.axes).reshape((dim, dim))\n",
    "# Loop over the diagonal\n",
    "for i in range(dim):\n",
    "    ax = axes[i, i]\n",
    "    ax.axvline(thetas[i], color=\"g\", label=r'$p_{true}$')\n",
    "# Loop over the histograms\n",
    "for yi in range(dim):\n",
    "    for xi in range(yi):\n",
    "        ax = axes[yi, xi]\n",
    "        ax.axvline(thetas[xi], color=\"g\")\n",
    "        ax.axhline(thetas[yi], color=\"g\")\n",
    "plt.show()"
   ]
  }
 ],
 "metadata": {
  "kernelspec": {
   "display_name": "Python 3",
   "language": "python",
   "name": "python3"
  },
  "language_info": {
   "codemirror_mode": {
    "name": "ipython",
    "version": 3
   },
   "file_extension": ".py",
   "mimetype": "text/x-python",
   "name": "python",
   "nbconvert_exporter": "python",
   "pygments_lexer": "ipython3",
   "version": "3.5.3"
  }
 },
 "nbformat": 4,
 "nbformat_minor": 1
}
